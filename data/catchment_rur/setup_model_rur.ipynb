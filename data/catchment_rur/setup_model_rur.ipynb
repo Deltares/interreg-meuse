{
 "cells": [
  {
   "cell_type": "code",
   "execution_count": 1,
   "metadata": {},
   "outputs": [
    {
     "name": "stderr",
     "output_type": "stream",
     "text": [
      "c:\\Users\\hartgrin\\Miniconda3\\envs\\Wflow_Rur\\lib\\site-packages\\hydromt_wflow\\wflow.py:10: UserWarning: Shapely 2.0 is installed, but because PyGEOS is also installed, GeoPandas will still use PyGEOS by default for now. To force to use and test Shapely 2.0, you have to set the environment variable USE_PYGEOS=0. You can do this before starting the Python process, or in your code before importing geopandas:\n",
      "\n",
      "import os\n",
      "os.environ['USE_PYGEOS'] = '0'\n",
      "import geopandas\n",
      "\n",
      "In a future release, GeoPandas will switch to using Shapely by default. If you are using PyGEOS directly (calling PyGEOS functions on geometries from GeoPandas), this will then stop working and you are encouraged to migrate from PyGEOS to Shapely 2.0 (https://shapely.readthedocs.io/en/latest/migration_pygeos.html).\n",
      "  import geopandas as gpd\n"
     ]
    }
   ],
   "source": [
    "from hydromt_wflow import WflowModel\n",
    "import hydromt\n",
    "import os\n",
    "\n",
    "import hydromt_rur # Custom script hydromt_rur.py that I used, can maybe be replaced by methods in the latest hydromt and hydromt_wflow version"
   ]
  },
  {
   "cell_type": "code",
   "execution_count": 2,
   "metadata": {},
   "outputs": [],
   "source": [
    "ROOT = 'c:/Users/hartgrin/OneDrive - Stichting Deltares/interreg-meuse/data/catchment_rur'\n",
    "BASE = 'model_a'\n",
    "RUR_LIB = 'rur_thesis.yml'\n",
    "DELTARES_LIB = 'p:/wflow_global/hydromt/deltares_data.yml'\n",
    "\n",
    "os.chdir(ROOT)"
   ]
  },
  {
   "attachments": {},
   "cell_type": "markdown",
   "metadata": {},
   "source": [
    "### Model A: base model + forcings\n",
    "\n",
    "Model is build using settings:\n",
    "\n",
    "`hydromt build wflow \"./models/model_a\" -r \"{'subbasin': [5.988550,51.185190], 'bounds': [5.9650, 50.4017, 6.7042, 51.1983], 'strord': 8}\" -i \"./configs/model_base.ini\" --dd -vvv`"
   ]
  },
  {
   "cell_type": "code",
   "execution_count": 4,
   "metadata": {},
   "outputs": [],
   "source": [
    "model_a = WflowModel(BASE, 'r+', data_libs=[RUR_LIB], deltares_data=True)"
   ]
  },
  {
   "attachments": {},
   "cell_type": "markdown",
   "metadata": {},
   "source": [
    "### Model B: reservoirs\n",
    "\n",
    "Reservoirs are currently implemented as a lake, as they support discharge based on waterlevel (from the old HBV-module). Therefore, the lakes are modelled as a prismatic lake with area A and the storage func 1: S = A*H. As of latest Wflow version (PR#250), overflow is included for lakes and based on maximum storage derived from the storage func, so S_max = A * H_max. Three reservoirs are included in the model: the Rurtalsperre (combined with the Urfttalsperre and Vortalsperre as 1 big reservoir), the Oleftalsperre and the Wehebachtalsperre. The Wehebachtalsperre is difficult to calibrate as it lies in the zone affected by lignite mining and has very low outflows (0.1 m3/s < Q < 0.2 m3/s>)."
   ]
  },
  {
   "cell_type": "code",
   "execution_count": 5,
   "metadata": {},
   "outputs": [],
   "source": [
    "model_b = model_a\n",
    "model_b.set_root('Rur_Wflow/models/model_b', 'r+')\n",
    "model_b.setup_lakes(lakes_fn='gsk3e_reservoirs', min_area=0.0)\n",
    "model_b.write()\n",
    "model_b.write_staticgeoms()"
   ]
  },
  {
   "attachments": {},
   "cell_type": "markdown",
   "metadata": {},
   "source": [
    "### Model C: reservoirs + local datasets\n",
    "\n",
    "Based on the added map for KsatVer, the KsatHorFrac needs little calibration and is best between 500 and 1000. Using soilmaps for KsatVer results in a wide variation for KsatHorFrac between 250 to 1500. Furthermore, cross-sectional data from a hydrodynamic model (ProMaIDes) is read and mapped to the Rur river to improve performance when using the local-interial method for river routing."
   ]
  },
  {
   "cell_type": "code",
   "execution_count": 6,
   "metadata": {},
   "outputs": [
    {
     "name": "stdout",
     "output_type": "stream",
     "text": [
      "Running set_usinggeom for KsatHorFrac for 2 regions\n",
      "New map for KsatHorFrac added\n",
      "Running set_vectorfile for KsatVer\n",
      "New map for KsatVer added\n"
     ]
    }
   ],
   "source": [
    "model_c = model_b\n",
    "model_c.set_root('model_c', 'r+')\n",
    "\n",
    "REGIONS = {\n",
    "        \"region5\": {\"ID\": 5, \"KsatHorFrac\": 500},\n",
    "        \"region6\": {\"ID\": 6, \"KsatHorFrac\": 500}}\n",
    "PATH_REGIONS = 'geo/rur_thickness.gpkg'        \n",
    "regions = [REGIONS[region] for region in REGIONS.keys()]\n",
    "hydromt_rur.set_usinggeom(model_c, PATH_REGIONS, \"KsatHorFrac\", 1000, \"ID\", \"epsg:4326\", *regions)\n",
    "\n",
    "model_c.setup_rivers(hydrography_fn='merit_hydro', river_geom_fn='gsk3e_rivers', river_upa=5)\n",
    "RIVER_RUR = \"waterbodies/promaides_rur.gpkg\"\n",
    "hydromt_rur.set_river(model_c, 'wflow_riverwidth', RIVER_RUR, 'width', 'EPSG:31466')\n",
    "hydromt_rur.set_river(model_c, 'RiverDepth', RIVER_RUR, 'depth', 'EPSG:31466', replace=10)\n",
    "\n",
    "PATH_KSATVER = 'geo/BK50.shp'\n",
    "hydromt_rur.set_vectorfile(model_c, PATH_KSATVER, \"KsatVer\", \"kf\", \"epsg:25832\" , scale_factor = 10)\n",
    "\n",
    "model_c.write()\n",
    "model_c.write_staticgeoms()"
   ]
  },
  {
   "attachments": {},
   "cell_type": "markdown",
   "metadata": {},
   "source": [
    "### Model D: reservoirs + local datasets + leakage\n",
    "\n",
    "Lignite mining lowers the groundwater table and strongly affects the water balance. A leakage parameter is applied based on a shapefile derived from the 'Rurscholle' groundwater model, which itself is based on geological features of the area. Two areas are identified: one with higher leakage and one with lower leakage. On average, these settings result in a yearly leakage of 300-350 Mm3, which is of the same order of magnitude as the 250 Mm3 reported by the mining company."
   ]
  },
  {
   "cell_type": "code",
   "execution_count": 7,
   "metadata": {},
   "outputs": [
    {
     "name": "stdout",
     "output_type": "stream",
     "text": [
      "Running set_usinggeom for MaxLeakage for 1 regions\n",
      "New map for MaxLeakage added\n"
     ]
    }
   ],
   "source": [
    "model_d = model_c\n",
    "model_d.set_root('Rur_Wflow/models/model_d', 'r+')\n",
    "\n",
    "GW_leak = {\n",
    "        \"area_1\": {\"id\": 1, f\"MaxLeakage\": 0.4},\n",
    "        \"area_2\": {\"id\": 2, f\"MaxLeakage\": 0.8}}\n",
    "PATH_GW = \"geo/rurscholle.gpkg\"\n",
    "gw_leak = [GW_leak[gw] for gw in GW_leak.keys()]\n",
    "hydromt_rur.create_usinggeom(model_d, PATH_GW, f\"MaxLeakage\", 0.0, \"id\", \"epsg:4326\", *gw_leak)\n",
    "\n",
    "model_d.write()\n",
    "model_d.write_staticgeoms()"
   ]
  }
 ],
 "metadata": {
  "kernelspec": {
   "display_name": "Wflow_Rur",
   "language": "python",
   "name": "python3"
  },
  "language_info": {
   "codemirror_mode": {
    "name": "ipython",
    "version": 3
   },
   "file_extension": ".py",
   "mimetype": "text/x-python",
   "name": "python",
   "nbconvert_exporter": "python",
   "pygments_lexer": "ipython3",
   "version": "3.10.8"
  },
  "orig_nbformat": 4,
  "vscode": {
   "interpreter": {
    "hash": "263a7d277699d0ad5f2159cd1dd0d9e9da0222ad9dc663f1d4769b95606a48a0"
   }
  }
 },
 "nbformat": 4,
 "nbformat_minor": 2
}
