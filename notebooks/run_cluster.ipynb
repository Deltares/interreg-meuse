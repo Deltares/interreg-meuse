{
 "cells": [
  {
   "attachments": {},
   "cell_type": "markdown",
   "metadata": {},
   "source": [
    "In this noteboook, we provide an example on how to run the snakemake pipeline on the cluster unix-h6. "
   ]
  },
  {
   "attachments": {},
   "cell_type": "markdown",
   "metadata": {},
   "source": [
    "## Steps to get the snakemake pipeline running\n",
    "\n",
    "1 - Log in to the cluster <br>\n",
    "2 - Clone the git repo: https://github.com/Deltares/interreg-meuse to have the latest code <br>\n",
    "3 - Create a snakemake environment: `mamba env create -f environment.yml`\n",
    "4 - Some part of the bash script (.sh file) and snakemake pipeline need to be adapted to your own path\n"
   ]
  },
  {
   "attachments": {},
   "cell_type": "markdown",
   "metadata": {},
   "source": [
    "4a - Adapt the snakemake config file. In the file `./config/members_config.yml`, you will need to make sure that the following path are correct:\n",
    "- if you want to run the unzip rule, make sure you check the name of the main folder. It is assumed that the zipped file is called data.zip\n",
    "- Make sure the settings for the wflow model are correct \n",
    "- `julia_env_fn`: path to your julia environment to run wflow"
   ]
  },
  {
   "attachments": {},
   "cell_type": "markdown",
   "metadata": {},
   "source": [
    "4b - Adapt some elements of the bash script and .bashrc file:\n",
    "- In the snakefile_cluster.sh, you can edit on which series of nodes you will run the jobs by editing:  <br>\n",
    "    - `#$ -q [queuename]`. On the unix-h6 cluster, this can be normal-e3-c7, normal-e5-c7 or normal-e3-c7-v2, see https://publicwiki.deltares.nl/display/ICTR/Queues \n",
    "    - Make changes in snakefile_cluster.sh: modify the name of the path to your snakemake environment. \n",
    "- In your .bashrc file, make sure you have defined the variable `SNAKE_SUBMIT_JOB` at the top of your file, for example in the following way: <br>\n",
    "`export SNAKE_SUBMIT_JOB=\"ssh [username]@v-hydrax001 'qsub -q [queuename] -N [name_job] -j yes -cwd -S /bin/sh ' \"`. Here: <br>\n",
    "    - `[username]` should be replaced by your username <br>\n",
    "    - `[queuename]` should be replaced by the queue where you want to run the jobs <br>\n",
    "    - `[name_job]` should be replaced by the name you want to give for the jobs. This will create log files as [name_job].o{job number} that will log the output of each job submitted by snakemake <br>"
   ]
  },
  {
   "attachments": {},
   "cell_type": "markdown",
   "metadata": {},
   "source": [
    "5 - Submit the script. You are now ready to submit your jobs! <br>\n",
    "However, to make sure you have everything under control, it if advised to first check the following before submitting: <br>\n",
    "- Make a dry-run of your snakemake pipeline to make sure you get what you expect. Running snakemake as a dry-run will compute the expected number of jobs without submitting them: <br>\n",
    "    -  `snakemake --unlock -s snakefile --configfile config/members_config.yml` <br>\n",
    "    -  `snakemake -n -s snakefile --configfile config/members_config.yml ` <br>\n",
    "    <br>\n",
    "- Export a figure of your DAG to make sure the rules are correctly ordered: <br>\n",
    "    -  `snakemake --forceall --dag | dot -Tsvg > dag.svg`   or   `snakemake --rulegraph --dag | dot -Tsvg > dag.svg` <br>"
   ]
  },
  {
   "attachments": {},
   "cell_type": "markdown",
   "metadata": {},
   "source": [
    "6 - "
   ]
  },
  {
   "cell_type": "markdown",
   "metadata": {},
   "source": []
  }
 ],
 "metadata": {
  "language_info": {
   "name": "python"
  },
  "orig_nbformat": 4
 },
 "nbformat": 4,
 "nbformat_minor": 2
}
